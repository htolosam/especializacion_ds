{
 "cells": [
  {
   "metadata": {},
   "cell_type": "code",
   "outputs": [],
   "execution_count": null,
   "source": "Ejercicio POO InterfaceS ",
   "id": "29d9cae19e129a4a"
  },
  {
   "cell_type": "code",
   "id": "initial_id",
   "metadata": {
    "collapsed": true,
    "ExecuteTime": {
     "end_time": "2024-09-22T06:08:01.735366Z",
     "start_time": "2024-09-22T06:08:01.727817Z"
    }
   },
   "source": [
    "from abc import ABC, abstractmethod\n",
    "\n",
    "\n",
    "class AdminEstudianteInterface(ABC):\n",
    "    \n",
    "    @abstractmethod\n",
    "    def insertar_estudiante(self, nombre_estudiante: str) -> None:\n",
    "        pass\n",
    "    \n",
    "    @abstractmethod\n",
    "    def listar_estudiantes(self) -> str:\n",
    "        pass\n",
    "\n",
    "class VerificaEstudianteInterface(ABC):\n",
    "    \n",
    "    @abstractmethod\n",
    "    def validar_cantidad_estudiantes(self, nombre_estudiante: str) -> bool:\n",
    "        pass\n",
    "\n",
    "\n",
    "class Colegio(AdminEstudianteInterface):\n",
    "    def __init__(self, nombre_colegio: str):\n",
    "        self.nombre_colegio = nombre_colegio\n",
    "        self.__estudiantes = [str]\n",
    "\n",
    "    def insertar_estudiante(self, nombre_estudiante: str) -> None:\n",
    "        self.__estudiantes.append(nombre_estudiante)\n",
    "        print(f\"Estudiante {nombre_estudiante} creado.\")\n",
    "\n",
    "    def listar_estudiantes(self) -> list[str]:\n",
    "        return self.__estudiantes\n",
    "    \n",
    "    def __str__(self) -> str:\n",
    "        return f\"Nombre colegio: {self.nombre_colegio}, Estudiantes: {self.__estudiantes}\"\n",
    "    \n",
    "\n",
    "class Escuela(AdminEstudianteInterface, VerificaEstudianteInterface):\n",
    "    \n",
    "    def __init__(self, nombre: str):\n",
    "        self.nombre = nombre\n",
    "        self.__estudiantes = [str]\n",
    "\n",
    "    def insertar_estudiante(self, nombre_estudiante: str) -> None:\n",
    "        self.__estudiantes.append(nombre_estudiante)\n",
    "        print(f\"Estudiante {nombre_estudiante} creado.\")\n",
    "\n",
    "    def listar_estudiantes(self) -> list[str]:\n",
    "        return self.__estudiantes\n",
    "    \n",
    "    def validar_cantidad_estudiantes(self, nombre_estudiante: str) -> bool:\n",
    "        if len(self.__estudiantes) >= 10:\n",
    "            print(\"No se pueden matricular mas estudiantes\")\n",
    "            return False\n",
    "        elif nombre_estudiante in self.__estudiantes:\n",
    "            print(f\"El estudiante {nombre_estudiante} ya existe\")\n",
    "            return False\n",
    "        print(f\"El estudiante {nombre_estudiante} puede ser ingresado.\")\n",
    "        return True\n",
    "        \n",
    "    \n",
    "    def __str__(self) -> str:\n",
    "        return f\"Nombre escuela: {self.nombre}, Estudiantes: {self.__estudiantes}\"\n"
   ],
   "outputs": [],
   "execution_count": 26
  },
  {
   "metadata": {
    "ExecuteTime": {
     "end_time": "2024-09-22T06:10:40.248359Z",
     "start_time": "2024-09-22T06:10:40.242198Z"
    }
   },
   "cell_type": "code",
   "source": [
    "colegio: Colegio = Colegio(nombre_colegio=\"Colegio de la costa\")\n",
    "colegio.insertar_estudiante(nombre_estudiante=\"pepito perez\")\n",
    "colegio.insertar_estudiante(nombre_estudiante=\"peter gonzales\")\n",
    "\n",
    "escuela: Escuela = Escuela(nombre=\"Escuela primaria\")\n",
    "escuela.insertar_estudiante(nombre_estudiante=\"fulanito de tal\")\n",
    "escuela.insertar_estudiante(nombre_estudiante=\"perencejo ramirez\")\n",
    "\n",
    "if escuela.validar_cantidad_estudiantes(nombre_estudiante=\"perencejo ramirez\"):\n",
    "    escuela.insertar_estudiante(nombre_estudiante=\"perencejo ramirez\")\n",
    "print(f\"El listado de estudiates es: {escuela.listar_estudiantes()}\")\n",
    "print(escuela)\n",
    "\n"
   ],
   "id": "5da9c060f25f3730",
   "outputs": [
    {
     "name": "stdout",
     "output_type": "stream",
     "text": [
      "Estudiante pepito perez creado.\n",
      "Estudiante peter gonzales creado.\n",
      "Estudiante fulanito de tal creado.\n",
      "Estudiante perencejo ramirez creado.\n",
      "El estudiante perencejo ramirez ya existe\n",
      "El listado de estudiates es: [<class 'str'>, 'fulanito de tal', 'perencejo ramirez']\n",
      "Nombre escuela: Escuela primaria, Estudiantes: [<class 'str'>, 'fulanito de tal', 'perencejo ramirez']\n"
     ]
    }
   ],
   "execution_count": 31
  }
 ],
 "metadata": {
  "kernelspec": {
   "display_name": "Python 3",
   "language": "python",
   "name": "python3"
  },
  "language_info": {
   "codemirror_mode": {
    "name": "ipython",
    "version": 2
   },
   "file_extension": ".py",
   "mimetype": "text/x-python",
   "name": "python",
   "nbconvert_exporter": "python",
   "pygments_lexer": "ipython2",
   "version": "2.7.6"
  }
 },
 "nbformat": 4,
 "nbformat_minor": 5
}

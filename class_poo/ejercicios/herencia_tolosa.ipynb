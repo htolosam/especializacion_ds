{
 "cells": [
  {
   "cell_type": "markdown",
   "metadata": {},
   "source": [
    "Ejercicio POO Herencia\n",
    "\n",
    "Se Crea una clase ViedoJuego donde adicionamos controles y juegos que los heredan la clase nintendo y PlayStation, La clase PlayStation usa unicamente los métodos de su clase base pero la clase Nintendo tiene métodos propios."
   ]
  },
  {
   "metadata": {},
   "cell_type": "markdown",
   "source": ""
  },
  {
   "cell_type": "code",
   "metadata": {
    "ExecuteTime": {
     "end_time": "2024-09-22T08:01:29.714315Z",
     "start_time": "2024-09-22T08:01:29.706695Z"
    }
   },
   "source": [
    "class ViedoJuego:\n",
    "\n",
    "    def __init__(self, nombre: str, modelo: str, cantidad_controles: int, memoria: int) -> None:\n",
    "        self.nombre = nombre\n",
    "        self.modelo = modelo\n",
    "        self.memoria = memoria\n",
    "        self.cantidad_controles = cantidad_controles\n",
    "        self.lista_juegos_enlinea = [str]\n",
    "\n",
    "    def add_juego(self, en_linea: bool, nombre_juego: str, peso_juego: int) -> str:\n",
    "        if en_linea and self.memoria > 0:\n",
    "            self.lista_juegos_enlinea.append(nombre_juego)\n",
    "            return f\"juego en linea {nombre_juego} descargado en la consola\"\n",
    "        else:\n",
    "            if self.memoria <=0:\n",
    "                print(f\"Se le entregara en formato fisico porque no tiene memoria para guardar\")\n",
    "            return f\"juego en formato fisico {nombre_juego}, inserte para jugar\"\n",
    "\n",
    "    def add_control(self, cantidad_control: int) -> str:\n",
    "        if self.cantidad_controles + cantidad_control > 8:\n",
    "            return f\"No puede agregar mas de 8controles a la consola\"\n",
    "        else:\n",
    "            self.cantidad_controles += cantidad_control\n",
    "            return f\"agrego {cantidad_control} controles y tiene {self.cantidad_controles} configurados\"\n",
    "\n",
    "class Nintendo(ViedoJuego):\n",
    "    def __init__(self, nombre: str, modelo: str, cantidad_controles: int, memoria: int, tipo_pantalla: str) -> None:\n",
    "        super().__init__(nombre=nombre, modelo= modelo, cantidad_controles= cantidad_controles, memoria=memoria)\n",
    "        self.tipo_pantalla = tipo_pantalla\n",
    "        \n",
    "    def get_lista_juegos_enlinea(self) -> list:\n",
    "        return self.lista_juegos_enlinea\n",
    "\n",
    "    def obtener_pantalla(self) -> None:\n",
    "        print(f\"El tipo de pantalla del juego {self.nombre} es {self.tipo_pantalla}\")\n",
    "\n",
    "class Playstation(ViedoJuego):\n",
    "    pass\n",
    "\n",
    "\n"
   ],
   "outputs": [],
   "execution_count": 11
  },
  {
   "cell_type": "code",
   "metadata": {
    "ExecuteTime": {
     "end_time": "2024-09-22T08:02:15.172791Z",
     "start_time": "2024-09-22T08:02:15.164008Z"
    }
   },
   "source": [
    "nintendo: Nintendo = Nintendo(nombre=\"Nintendo\", modelo=\"switch\", cantidad_controles=2, memoria=64000, tipo_pantalla=\"OLED\")\n",
    "print(nintendo.add_control(cantidad_control=2))\n",
    "print(nintendo.add_juego(en_linea=True, nombre_juego=\"zelda\", peso_juego=10000))\n",
    "nintendo.obtener_pantalla()\n",
    "print(f\"mis juegois en linea {nintendo.get_lista_juegos_enlinea()}\")\n",
    "\n",
    "\n",
    "play: Playstation = Playstation(nombre=\"Play Station\", modelo=\"3\", cantidad_controles=1, memoria=0)\n",
    "print(play.add_control(cantidad_control=1))\n",
    "print(play.add_juego(en_linea=False, nombre_juego=\"mario\", peso_juego=0))\n"
   ],
   "outputs": [
    {
     "name": "stdout",
     "output_type": "stream",
     "text": [
      "agrego 2 controles y tiene 4 configurados\n",
      "juego en linea zelda descargado en la consola\n",
      "El tipo de pantalla del juego Nintendo es OLED\n",
      "mis juegois en linea [<class 'str'>, 'zelda']\n",
      "agrego 1 controles y tiene 2 configurados\n",
      "Se le entregara en formato fisico porque no tiene memoria para guardar\n",
      "juego en formato fisico mario, inserte para jugar\n"
     ]
    }
   ],
   "execution_count": 12
  },
  {
   "metadata": {},
   "cell_type": "code",
   "outputs": [],
   "execution_count": null,
   "source": ""
  }
 ],
 "metadata": {
  "kernelspec": {
   "display_name": "Python 3 (ipykernel)",
   "language": "python",
   "name": "python3"
  },
  "language_info": {
   "codemirror_mode": {
    "name": "ipython",
    "version": 3
   },
   "file_extension": ".py",
   "mimetype": "text/x-python",
   "name": "python",
   "nbconvert_exporter": "python",
   "pygments_lexer": "ipython3",
   "version": "3.12.1"
  }
 },
 "nbformat": 4,
 "nbformat_minor": 2
}

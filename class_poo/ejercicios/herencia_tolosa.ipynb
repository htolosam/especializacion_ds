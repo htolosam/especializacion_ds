{
 "cells": [
  {
   "cell_type": "markdown",
   "metadata": {},
   "source": [
    "Ejercicio POO Herencia"
   ]
  },
  {
   "cell_type": "code",
   "execution_count": 16,
   "metadata": {},
   "outputs": [],
   "source": [
    "class ViedoJuego:\n",
    "\n",
    "    def __init__(self, nombre: str, modelo: str, cantidad_controles: int, memoria: int) -> None:\n",
    "        self.nombre = nombre\n",
    "        self.modelo = modelo\n",
    "        self.memoria = memoria\n",
    "        self.cantidad_controles = cantidad_controles\n",
    "\n",
    "    def add_juego(self, en_linea: bool, nombre_juego: str, peso_juego: int) -> str:\n",
    "\n",
    "        if en_linea and self.memoria > 0:\n",
    "            return f\"juego en linea {nombre_juego} descargado en la consola\"\n",
    "        else:\n",
    "            if self.memoria <=0:\n",
    "                print(f\"Se le entregara en formato fisico porque no tiene memoria para guardar\")\n",
    "            return f\"juego en formato fisico {nombre_juego}, inserte para jugar\"\n",
    "\n",
    "    def add_control(self, cantidad_control: int) -> str:\n",
    "        if self.cantidad_controles + cantidad_control > 8:\n",
    "            return f\"No puede agregar mas de 8controles a la consola\"\n",
    "        else:\n",
    "            self.cantidad_controles += cantidad_control\n",
    "            return f\"agrego {cantidad_control} controles y tiene {self.cantidad_controles} configurados\"\n",
    "\n",
    "class Nintendo(ViedoJuego):\n",
    "\n",
    "    def __init__(self, nombre: str, modelo: str, cantidad_controles: int, memoria: int, tipo_pantalla: str) -> None:\n",
    "        super().__init__(nombre=nombre, modelo= modelo, cantidad_controles= cantidad_controles, memoria=memoria)\n",
    "        self.tipo_pantalla = tipo_pantalla\n",
    "\n",
    "    def obtener_pantalla(self) -> None:\n",
    "        print(f\"El tipo de pantalla del juego {self.nombre} es {self.tipo_pantalla}\")\n",
    "\n",
    "class Playstation(ViedoJuego):\n",
    "    pass\n"
   ]
  },
  {
   "cell_type": "code",
   "execution_count": 17,
   "metadata": {},
   "outputs": [
    {
     "name": "stdout",
     "output_type": "stream",
     "text": [
      "agrego 2 controles y tiene 4 configurados\n",
      "juego en linea zelda descargado en la consola\n",
      "El tipo de pantalla del juego Nintendo es OLED\n",
      "agrego 1 controles y tiene 2 configurados\n",
      "Se le entregara en formato fisico porque no tiene memoria para guardar\n",
      "juego en formato fisico zelda, inserte para jugar\n"
     ]
    }
   ],
   "source": [
    "nintendo: Nintendo = Nintendo(nombre=\"Nintendo\", modelo=\"switch\", cantidad_controles=2, memoria=64000, tipo_pantalla=\"OLED\")\n",
    "print(nintendo.add_control(cantidad_control=2))\n",
    "print(nintendo.add_juego(en_linea=True, nombre_juego=\"zelda\", peso_juego=10000))\n",
    "nintendo.obtener_pantalla()\n",
    "\n",
    "play: Playstation = Playstation(nombre=\"Play Station\", modelo=\"2\", cantidad_controles=1, memoria=0)\n",
    "print(play.add_control(cantidad_control=1))\n",
    "print(play.add_juego(en_linea=True, nombre_juego=\"zelda\", peso_juego=10000))\n"
   ]
  }
 ],
 "metadata": {
  "kernelspec": {
   "display_name": "Python 3 (ipykernel)",
   "language": "python",
   "name": "python3"
  },
  "language_info": {
   "codemirror_mode": {
    "name": "ipython",
    "version": 3
   },
   "file_extension": ".py",
   "mimetype": "text/x-python",
   "name": "python",
   "nbconvert_exporter": "python",
   "pygments_lexer": "ipython3",
   "version": "3.12.1"
  }
 },
 "nbformat": 4,
 "nbformat_minor": 2
}

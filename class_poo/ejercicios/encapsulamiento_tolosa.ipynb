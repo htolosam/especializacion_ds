{
 "cells": [
  {
   "cell_type": "markdown",
   "metadata": {},
   "source": "Ejercicio POO Encapsulamiento"
  },
  {
   "cell_type": "code",
   "metadata": {
    "ExecuteTime": {
     "end_time": "2024-09-22T03:40:17.391354Z",
     "start_time": "2024-09-22T03:40:17.384341Z"
    }
   },
   "source": [
    "class Colegio:\n",
    "    def __init__(self, nombre_colegio: str):\n",
    "        self.nombre_colegio = nombre_colegio\n",
    "        self.__estudiantes = [str]\n",
    "\n",
    "    def insertar_estudiante(self, nombre_estudiante: str) -> None:\n",
    "        self.__estudiantes.append(nombre_estudiante)\n",
    "        print(f\"Estudiante {nombre_estudiante} creado.\")\n",
    "\n",
    "    def eliminar_estudiante(self, nombre_estudiante: str) -> str:\n",
    "        if nombre_estudiante in self.__estudiantes:\n",
    "            self.__estudiantes.remove(nombre_estudiante)\n",
    "            return f\"Estudiante {nombre_estudiante} eliminado.\"\n",
    "        else:\n",
    "            return f\"El estudiante {nombre_estudiante} no existe\"\n",
    "\n",
    "    def listar_estudiantes(self) -> list[str]:\n",
    "        return self.__estudiantes\n",
    "    \n",
    "    def __str__(self) -> str:\n",
    "        return f\"Nombre colegio: {self.nombre_colegio}, Estudiantes: {self.__estudiantes}\"\n",
    "\n"
   ],
   "outputs": [],
   "execution_count": 14
  },
  {
   "cell_type": "code",
   "metadata": {
    "ExecuteTime": {
     "end_time": "2024-09-22T03:40:20.776343Z",
     "start_time": "2024-09-22T03:40:20.772956Z"
    }
   },
   "source": [
    "colegio: Colegio = Colegio(nombre_colegio=\"Colegio de la costa\")\n",
    "colegio.insertar_estudiante(nombre_estudiante=\"pepito perez\")\n",
    "colegio.insertar_estudiante(nombre_estudiante=\"peter gonzales\")\n",
    "print(f\"Estudiantes: {colegio.listar_estudiantes()}\")\n",
    "colegio.eliminar_estudiante(nombre_estudiante=\"peter gonzales\")\n",
    "colegio.insertar_estudiante(nombre_estudiante=\"lucia\")\n",
    "colegio.insertar_estudiante(nombre_estudiante=\"Ana maria\")\n",
    "print(f\"Estudiantes: {colegio.listar_estudiantes()}\")\n",
    "print(colegio)\n"
   ],
   "outputs": [
    {
     "name": "stdout",
     "output_type": "stream",
     "text": [
      "Estudiante pepito perez creado.\n",
      "Estudiante peter gonzales creado.\n",
      "Estudiantes: [<class 'str'>, 'pepito perez', 'peter gonzales']\n",
      "Estudiante lucia creado.\n",
      "Estudiante Ana maria creado.\n",
      "Estudiantes: [<class 'str'>, 'pepito perez', 'lucia', 'Ana maria']\n",
      "Nombre colegio: Colegio de la costa, Estudiantes: [<class 'str'>, 'pepito perez', 'lucia', 'Ana maria']\n"
     ]
    }
   ],
   "execution_count": 15
  },
  {
   "metadata": {},
   "cell_type": "code",
   "outputs": [],
   "execution_count": null,
   "source": ""
  }
 ],
 "metadata": {
  "kernelspec": {
   "display_name": "Python 3 (ipykernel)",
   "language": "python",
   "name": "python3"
  },
  "language_info": {
   "codemirror_mode": {
    "name": "ipython",
    "version": 3
   },
   "file_extension": ".py",
   "mimetype": "text/x-python",
   "name": "python",
   "nbconvert_exporter": "python",
   "pygments_lexer": "ipython3",
   "version": "3.12.1"
  }
 },
 "nbformat": 4,
 "nbformat_minor": 2
}

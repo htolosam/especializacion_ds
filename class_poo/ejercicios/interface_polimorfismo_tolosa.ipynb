{
 "cells": [
  {
   "metadata": {},
   "cell_type": "markdown",
   "source": [
    "Ejercicio POO Interfaces y Polimorfismo \n",
    "\n",
    "Se crean dos interfaces AdminEstudianteInterface y VerificaEstudianteInterface que son implementadas por las clases Colegio y Escuela que realizan acciones diferentes en el método get_nombre_instituto() el cual en la clase Colegio retorna el nombre del colegio y en el de Escuela retorna las siglas en mayuscula.\n",
    "\n",
    "Tambien el metodo listar_estudiantes() que en la clase Escuela solo seran listados si es un profesor el que realiza la acción."
   ],
   "id": "63c7187adc1de5f"
  },
  {
   "cell_type": "code",
   "id": "initial_id",
   "metadata": {
    "collapsed": true,
    "ExecuteTime": {
     "end_time": "2024-09-22T07:32:36.686342Z",
     "start_time": "2024-09-22T07:32:36.678258Z"
    }
   },
   "source": [
    "from abc import ABC, abstractmethod\n",
    "\n",
    "\n",
    "class AdminEstudianteInterface(ABC):\n",
    "    \n",
    "    @abstractmethod\n",
    "    def get_nombre_instituto(self) -> str:\n",
    "        pass\n",
    "    \n",
    "    @abstractmethod\n",
    "    def insertar_estudiante(self, nombre_estudiante: str) -> None:\n",
    "        pass\n",
    "    \n",
    "    @abstractmethod\n",
    "    def listar_estudiantes(self) -> [str]:\n",
    "        pass\n",
    "\n",
    "class VerificaEstudianteInterface(ABC):\n",
    "    \n",
    "    @abstractmethod\n",
    "    def validar_cantidad_estudiantes(self, nombre_estudiante: str) -> bool:\n",
    "        pass\n",
    "\n",
    "\n",
    "class Colegio(AdminEstudianteInterface):\n",
    "    def __init__(self, nombre_colegio: str):\n",
    "        self.nombre_colegio = nombre_colegio\n",
    "        self.__estudiantes = [str]\n",
    "        \n",
    "    def get_nombre_instituto(self) -> str:\n",
    "        return self.nombre_colegio\n",
    "\n",
    "    def insertar_estudiante(self, nombre_estudiante: str) -> None:\n",
    "        self.__estudiantes.append(nombre_estudiante)\n",
    "        print(f\"Estudiante {nombre_estudiante} creado.\")\n",
    "\n",
    "    def listar_estudiantes(self) -> [str]:\n",
    "        return self.__estudiantes\n",
    "    \n",
    "    def __str__(self) -> str:\n",
    "        return f\"Nombre colegio: {self.nombre_colegio}, Estudiantes: {self.__estudiantes}\"\n",
    "    \n",
    "\n",
    "class Escuela(AdminEstudianteInterface, VerificaEstudianteInterface):\n",
    "    \n",
    "    def __init__(self, nombre: str, es_profesor: bool):\n",
    "        self.nombre = nombre\n",
    "        self.__estudiantes = [str]\n",
    "        self.es_profesor = es_profesor\n",
    "    \n",
    "    def get_nombre_instituto(self) -> str:\n",
    "        palabras = self.nombre.split()\n",
    "        return \"\".join(palabra[0] for palabra in palabras).upper()\n",
    "\n",
    "    def insertar_estudiante(self, nombre_estudiante: str) -> None:\n",
    "        self.__estudiantes.append(nombre_estudiante)\n",
    "        print(f\"Estudiante {nombre_estudiante} creado.\")\n",
    "\n",
    "    def listar_estudiantes(self) -> [str]:\n",
    "        if self.es_profesor:\n",
    "            return self.__estudiantes\n",
    "        else:\n",
    "            print(f\"No tiene permiso para ver el listado de estudiantes\")\n",
    "            return []\n",
    "    \n",
    "    def validar_cantidad_estudiantes(self, nombre_estudiante: str) -> bool:\n",
    "        if len(self.__estudiantes) >= 10:\n",
    "            print(\"No se pueden matricular mas estudiantes\")\n",
    "            return False\n",
    "        elif nombre_estudiante in self.__estudiantes:\n",
    "            print(f\"El estudiante {nombre_estudiante} ya existe\")\n",
    "            return False\n",
    "        print(f\"El estudiante {nombre_estudiante} puede ser ingresado.\")\n",
    "        return True\n",
    "        \n",
    "    \n",
    "    def __str__(self) -> str:\n",
    "        return f\"Nombre escuela: {self.nombre}, Estudiantes: {self.__estudiantes}\"\n"
   ],
   "outputs": [],
   "execution_count": 53
  },
  {
   "metadata": {
    "ExecuteTime": {
     "end_time": "2024-09-22T07:33:16.051410Z",
     "start_time": "2024-09-22T07:33:16.045316Z"
    }
   },
   "cell_type": "code",
   "source": [
    "def test_interface(instituto: AdminEstudianteInterface) -> None:\n",
    "    print(f\"El {instituto.get_nombre_instituto()} tiene estos estudiantes: {instituto.listar_estudiantes()}\")\n",
    "\n",
    "colegio: Colegio = Colegio(nombre_colegio=\"Colegio de la costa\")\n",
    "list: [str] = [\"pepito perez\", \"peter gonzales\", \"el duque\"]\n",
    "for estudiante in list:\n",
    "    colegio.insertar_estudiante(estudiante)\n",
    "\n",
    "\n",
    "escuela: Escuela = Escuela(nombre=\"Escuela primaria de sal si puedes\", es_profesor=True)\n",
    "list_esc: [str] = [\"fulanito de tal\", \"perencejo ramirez\", \"luqui nilla\"]\n",
    "for estudiante in list_esc:\n",
    "    escuela.insertar_estudiante(estudiante)\n",
    "\n",
    "if escuela.validar_cantidad_estudiantes(nombre_estudiante=\"perencejo ramirez\"):\n",
    "    escuela.insertar_estudiante(nombre_estudiante=\"perencejo ramirez\")\n",
    "\n",
    "escuela.insertar_estudiante(nombre_estudiante=\"ho tolosa\")\n",
    "\n",
    "\n",
    "test_interface(instituto=colegio)\n",
    "test_interface(instituto=escuela)\n",
    "\n",
    "\n",
    "\n",
    "\n",
    "\n"
   ],
   "id": "5da9c060f25f3730",
   "outputs": [
    {
     "name": "stdout",
     "output_type": "stream",
     "text": [
      "Estudiante pepito perez creado.\n",
      "Estudiante peter gonzales creado.\n",
      "Estudiante el duque creado.\n",
      "Estudiante fulanito de tal creado.\n",
      "Estudiante perencejo ramirez creado.\n",
      "Estudiante luqui nilla creado.\n",
      "El estudiante perencejo ramirez ya existe\n",
      "Estudiante ho tolosa creado.\n",
      "El Colegio de la costa tiene estos estudiantes: [<class 'str'>, 'pepito perez', 'peter gonzales', 'el duque']\n",
      "El EPDSSP tiene estos estudiantes: [<class 'str'>, 'fulanito de tal', 'perencejo ramirez', 'luqui nilla', 'ho tolosa']\n"
     ]
    }
   ],
   "execution_count": 55
  }
 ],
 "metadata": {
  "kernelspec": {
   "display_name": "Python 3",
   "language": "python",
   "name": "python3"
  },
  "language_info": {
   "codemirror_mode": {
    "name": "ipython",
    "version": 2
   },
   "file_extension": ".py",
   "mimetype": "text/x-python",
   "name": "python",
   "nbconvert_exporter": "python",
   "pygments_lexer": "ipython2",
   "version": "2.7.6"
  }
 },
 "nbformat": 4,
 "nbformat_minor": 5
}

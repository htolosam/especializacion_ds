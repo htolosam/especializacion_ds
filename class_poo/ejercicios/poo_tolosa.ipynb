{
 "cells": [
  {
   "cell_type": "markdown",
   "metadata": {},
   "source": [
    "Ejercicio POO Abstracción\n",
    "\n",
    "Crear clase abstracta"
   ]
  },
  {
   "cell_type": "code",
   "execution_count": 6,
   "metadata": {},
   "outputs": [],
   "source": [
    "class Computador:\n",
    "\n",
    "    def __init__(self, color: str, tipo: str) -> None:\n",
    "        self.color = color\n",
    "        self.tipo = tipo\n",
    "\n",
    "    def tamano_pantalla(sel, tamanio: int) -> str:\n",
    "        if tamanio > 16:\n",
    "            return f\"el tipo de pantalla es grande de {tamanio} pulgadas\"\n",
    "        else:\n",
    "            return f\"el tipo de pantalla es pequeña de {tamanio} pulgadas\"\n",
    "\n",
    "    def valor_extra_pantalla(self) -> float:\n",
    "        if self.tipo == \"OLED\":\n",
    "            return 1000000\n",
    "        return 0\n",
    "\n",
    "\n",
    "    def __str__(self) -> str:\n",
    "        return f\"computador color {self.color}, tipo pantalla {self.tipo}\""
   ]
  },
  {
   "cell_type": "code",
   "execution_count": 7,
   "metadata": {},
   "outputs": [
    {
     "name": "stdout",
     "output_type": "stream",
     "text": [
      "el tipo de pantalla es grande de 20 pulgadas\n",
      "valor extra por la pantalla tipo OLED 1000000\n",
      "computador color blanco, tipo pantalla OLED\n"
     ]
    }
   ],
   "source": [
    "pc: Computador = Computador(color=\"blanco\", tipo=\"OLED\")\n",
    "print(pc.tamano_pantalla(20))\n",
    "print(f\"valor extra por la pantalla tipo {pc.tipo} {pc.valor_extra_pantalla()}\")\n",
    "print(pc)"
   ]
  }
 ],
 "metadata": {
  "kernelspec": {
   "display_name": "Python 3 (ipykernel)",
   "language": "python",
   "name": "python3"
  },
  "language_info": {
   "codemirror_mode": {
    "name": "ipython",
    "version": 3
   },
   "file_extension": ".py",
   "mimetype": "text/x-python",
   "name": "python",
   "nbconvert_exporter": "python",
   "pygments_lexer": "ipython3",
   "version": "3.12.1"
  }
 },
 "nbformat": 4,
 "nbformat_minor": 2
}

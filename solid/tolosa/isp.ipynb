{
 "cells": [
  {
   "cell_type": "markdown",
   "metadata": {},
   "source": [
    "ISP - Interface Segregation Principle - Ejercicio"
   ]
  },
  {
   "cell_type": "code",
   "execution_count": 7,
   "metadata": {},
   "outputs": [],
   "source": [
    "from abc import ABC, abstractmethod\n",
    "\n",
    "class Document(ABC):\n",
    "    @abstractmethod\n",
    "    def read(self, path: str) -> str:\n",
    "        pass\n",
    "\n",
    "    @abstractmethod\n",
    "    def write(self, path: str, data: str) -> bool:\n",
    "        pass\n",
    "\n",
    "    @abstractmethod\n",
    "    def delete(self, path: str) -> bool:\n",
    "        pass\n",
    "\n",
    "class PdfReadingDocument(Document):\n",
    "    def read(self, path: str) -> str:\n",
    "        return f\"El domuento en la ruta {path} puede ser leido\"\n",
    "\n",
    "    def write(self, path: str, data: str) -> bool:\n",
    "        raise ValueError(\"No se puede escribir en el documento\")\n",
    "\n",
    "    def delete(self, path: str) -> bool:\n",
    "        raise ValueError(\"No se puede eliminar el documento\")"
   ]
  },
  {
   "cell_type": "code",
   "execution_count": 8,
   "metadata": {},
   "outputs": [
    {
     "name": "stdout",
     "output_type": "stream",
     "text": [
      "El domuento en la ruta /url puede ser leido\n"
     ]
    },
    {
     "ename": "ValueError",
     "evalue": "No se puede escribir en el documento",
     "output_type": "error",
     "traceback": [
      "\u001b[0;31m---------------------------------------------------------------------------\u001b[0m",
      "\u001b[0;31mValueError\u001b[0m                                Traceback (most recent call last)",
      "Cell \u001b[0;32mIn[8], line 3\u001b[0m\n\u001b[1;32m      1\u001b[0m read_doc: ReadingDocument \u001b[38;5;241m=\u001b[39m ReadingDocument()\n\u001b[1;32m      2\u001b[0m \u001b[38;5;28mprint\u001b[39m(read_doc\u001b[38;5;241m.\u001b[39mread(\u001b[38;5;124m\"\u001b[39m\u001b[38;5;124m/url\u001b[39m\u001b[38;5;124m\"\u001b[39m))\n\u001b[0;32m----> 3\u001b[0m \u001b[38;5;28mprint\u001b[39m(\u001b[43mread_doc\u001b[49m\u001b[38;5;241;43m.\u001b[39;49m\u001b[43mwrite\u001b[49m\u001b[43m(\u001b[49m\u001b[38;5;124;43m\"\u001b[39;49m\u001b[38;5;124;43m/url\u001b[39;49m\u001b[38;5;124;43m\"\u001b[39;49m\u001b[43m,\u001b[49m\u001b[43m \u001b[49m\u001b[38;5;124;43m\"\u001b[39;49m\u001b[38;5;124;43mestos son los datos\u001b[39;49m\u001b[38;5;124;43m\"\u001b[39;49m\u001b[43m)\u001b[49m)\n",
      "Cell \u001b[0;32mIn[7], line 21\u001b[0m, in \u001b[0;36mReadingDocument.write\u001b[0;34m(self, path, data)\u001b[0m\n\u001b[1;32m     20\u001b[0m \u001b[38;5;28;01mdef\u001b[39;00m \u001b[38;5;21mwrite\u001b[39m(\u001b[38;5;28mself\u001b[39m, path: \u001b[38;5;28mstr\u001b[39m, data: \u001b[38;5;28mstr\u001b[39m) \u001b[38;5;241m-\u001b[39m\u001b[38;5;241m>\u001b[39m \u001b[38;5;28mbool\u001b[39m:\n\u001b[0;32m---> 21\u001b[0m     \u001b[38;5;28;01mraise\u001b[39;00m \u001b[38;5;167;01mValueError\u001b[39;00m(\u001b[38;5;124m\"\u001b[39m\u001b[38;5;124mNo se puede escribir en el documento\u001b[39m\u001b[38;5;124m\"\u001b[39m)\n",
      "\u001b[0;31mValueError\u001b[0m: No se puede escribir en el documento"
     ]
    }
   ],
   "source": [
    "read_doc: PdfReadingDocument = PdfReadingDocument()\n",
    "print(read_doc.read(\"/url\"))\n",
    "print(read_doc.write(\"/url\", \"estos son los datos\"))"
   ]
  },
  {
   "cell_type": "markdown",
   "metadata": {},
   "source": [
    "Ejercicio con ISP"
   ]
  },
  {
   "cell_type": "code",
   "execution_count": 10,
   "metadata": {},
   "outputs": [],
   "source": [
    "from abc import ABC, abstractmethod\n",
    "\n",
    "class ReadDocument(ABC):\n",
    "    @abstractmethod\n",
    "    def read(self, path: str) -> str:\n",
    "        pass\n",
    "\n",
    "class WriteDocument(ABC):\n",
    "    @abstractmethod\n",
    "    def write(self, path: str, data: str) -> bool:\n",
    "        pass\n",
    "\n",
    "class DeleteDocument(ABC):\n",
    "    @abstractmethod\n",
    "    def delete(self, path: str) -> bool:\n",
    "        pass\n",
    "\n",
    "class PdfReadingDocument(ReadDocument):\n",
    "    def read(self, path: str) -> str:\n",
    "        return f\"El domuento en la ruta {path} puede ser leido\"\n",
    "\n",
    "class TxtDocument(ReadDocument, WriteDocument, DeleteDocument):\n",
    "\n",
    "    def read(self, path: str) -> str:\n",
    "        return f\"El domuento en la ruta {path} puede ser leido\"\n",
    "\n",
    "    def write(self, path: str, data: str) -> bool:\n",
    "        print(f\"se escriben los datos: {data}\")\n",
    "        return True\n",
    "\n",
    "    def delete(self, path: str) -> bool:\n",
    "        print(f\"se elimina el doc de la ruta: {path}\")\n",
    "        return False\n"
   ]
  },
  {
   "cell_type": "code",
   "execution_count": 11,
   "metadata": {},
   "outputs": [
    {
     "name": "stdout",
     "output_type": "stream",
     "text": [
      "El domuento en la ruta /url puede ser leido\n",
      "se escriben los datos: estos son los datos\n",
      "True\n"
     ]
    }
   ],
   "source": [
    "read_doc: PdfReadingDocument = PdfReadingDocument()\n",
    "txt_doc: TxtDocument = TxtDocument()\n",
    "print(read_doc.read(\"/url\"))\n",
    "print(txt_doc.write(\"/url\", \"estos son los datos\"))"
   ]
  }
 ],
 "metadata": {
  "kernelspec": {
   "display_name": "Python 3 (ipykernel)",
   "language": "python",
   "name": "python3"
  },
  "language_info": {
   "codemirror_mode": {
    "name": "ipython",
    "version": 3
   },
   "file_extension": ".py",
   "mimetype": "text/x-python",
   "name": "python",
   "nbconvert_exporter": "python",
   "pygments_lexer": "ipython3",
   "version": "3.12.1"
  }
 },
 "nbformat": 4,
 "nbformat_minor": 2
}

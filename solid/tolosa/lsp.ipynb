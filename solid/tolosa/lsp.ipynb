{
 "cells": [
  {
   "cell_type": "markdown",
   "metadata": {},
   "source": [
    "LSP - Liskov Substitution Principle"
   ]
  },
  {
   "cell_type": "markdown",
   "metadata": {},
   "source": [
    "Implementando LSP Correcto\n",
    "\n",
    "Se tiene una clase Authentication que autentica por medio de login y contraseña, creamos una clase BiometricAuthentication que extiende de la clase Authentication y una clase Session que Autentica por medio de la clase Authentication al realizar el enviarle un objeto BiometricAuthentication el programa sigue funcionando normal"
   ]
  },
  {
   "cell_type": "code",
   "metadata": {
    "ExecuteTime": {
     "end_time": "2024-09-29T16:31:16.271754Z",
     "start_time": "2024-09-29T16:31:16.266140Z"
    }
   },
   "source": [
    "class Authentication:\n",
    "    def __init__(self, username: str, password:str) -> None:\n",
    "        self.username = username\n",
    "        self.password = password\n",
    "\n",
    "    def login(self) -> str:\n",
    "        return f\"login success to username {self.username}\"\n",
    "\n",
    "\n",
    "class BiometricAuthentication(Authentication):\n",
    "    def __init__(self, data_bio: str) -> None:\n",
    "        self.data_bio = data_bio\n",
    "    \n",
    "    def login(self) -> str:\n",
    "        return f\"login success to biometric data user\"\n",
    "    \n",
    "\n",
    "class Session:\n",
    "    def __init__(self, authentication: Authentication) -> None:\n",
    "        self.authentication = authentication\n",
    "    \n",
    "    def authenticate(self) -> str:\n",
    "        return self.authentication.login()\n",
    "\n",
    "    "
   ],
   "outputs": [],
   "execution_count": 13
  },
  {
   "metadata": {
    "ExecuteTime": {
     "end_time": "2024-09-29T16:31:18.479388Z",
     "start_time": "2024-09-29T16:31:18.476318Z"
    }
   },
   "cell_type": "code",
   "source": [
    "auth: Authentication = Authentication(\"user1\",\"1qaz2wsx\")\n",
    "bio_auth: BiometricAuthentication = BiometricAuthentication(\"1qaz2wsx\")\n",
    "session_auth: Session = Session(auth)\n",
    "session_bio: Session = Session(bio_auth)\n",
    "print(session_auth.authenticate())\n",
    "print(session_bio.authenticate())\n"
   ],
   "outputs": [
    {
     "name": "stdout",
     "output_type": "stream",
     "text": [
      "login success to username user1\n",
      "login success to biometric data user\n"
     ]
    }
   ],
   "execution_count": 14
  },
  {
   "metadata": {},
   "cell_type": "markdown",
   "source": [
    "LSP Incorrecto\n",
    "Modificamos el método login la clase BiometricAuthentication en la que se coloca un comportamiento de retorno de un error si no cumple con una validación, este comportamiento no lo tiene la clase padre por lo que se incumple el principio"
   ]
  },
  {
   "metadata": {
    "ExecuteTime": {
     "end_time": "2024-09-29T16:32:01.357655Z",
     "start_time": "2024-09-29T16:32:01.352038Z"
    }
   },
   "cell_type": "code",
   "source": [
    "class BiometricAuthentication(Authentication):\n",
    "    def __init__(self, data_bio: str) -> None:\n",
    "        self.data_bio = data_bio\n",
    "    \n",
    "    def login(self) -> str:\n",
    "        if len(self.data_bio) < 10:\n",
    "            raise ValueError(\"Excepción en los datos biometricos\")\n",
    "        return f\"login success to biometric data user\""
   ],
   "outputs": [],
   "execution_count": 17
  },
  {
   "metadata": {
    "ExecuteTime": {
     "end_time": "2024-09-29T16:32:40.007214Z",
     "start_time": "2024-09-29T16:32:39.987767Z"
    }
   },
   "cell_type": "code",
   "source": [
    "bio_auth: BiometricAuthentication = BiometricAuthentication(\"gggg\")\n",
    "session_bio: Session = Session(bio_auth)\n",
    "print(session_bio.authenticate())"
   ],
   "outputs": [
    {
     "ename": "ValueError",
     "evalue": "Excepción en los datos biometricos",
     "output_type": "error",
     "traceback": [
      "\u001B[0;31m---------------------------------------------------------------------------\u001B[0m",
      "\u001B[0;31mValueError\u001B[0m                                Traceback (most recent call last)",
      "Cell \u001B[0;32mIn[20], line 3\u001B[0m\n\u001B[1;32m      1\u001B[0m bio_auth: BiometricAuthentication \u001B[38;5;241m=\u001B[39m BiometricAuthentication(\u001B[38;5;124m\"\u001B[39m\u001B[38;5;124mgggg\u001B[39m\u001B[38;5;124m\"\u001B[39m)\n\u001B[1;32m      2\u001B[0m session_bio: Session \u001B[38;5;241m=\u001B[39m Session(bio_auth)\n\u001B[0;32m----> 3\u001B[0m \u001B[38;5;28mprint\u001B[39m(\u001B[43msession_bio\u001B[49m\u001B[38;5;241;43m.\u001B[39;49m\u001B[43mauthenticate\u001B[49m\u001B[43m(\u001B[49m\u001B[43m)\u001B[49m)\n",
      "Cell \u001B[0;32mIn[13], line 23\u001B[0m, in \u001B[0;36mSession.authenticate\u001B[0;34m(self)\u001B[0m\n\u001B[1;32m     22\u001B[0m \u001B[38;5;28;01mdef\u001B[39;00m \u001B[38;5;21mauthenticate\u001B[39m(\u001B[38;5;28mself\u001B[39m) \u001B[38;5;241m-\u001B[39m\u001B[38;5;241m>\u001B[39m \u001B[38;5;28mstr\u001B[39m:\n\u001B[0;32m---> 23\u001B[0m     \u001B[38;5;28;01mreturn\u001B[39;00m \u001B[38;5;28;43mself\u001B[39;49m\u001B[38;5;241;43m.\u001B[39;49m\u001B[43mauthentication\u001B[49m\u001B[38;5;241;43m.\u001B[39;49m\u001B[43mlogin\u001B[49m\u001B[43m(\u001B[49m\u001B[43m)\u001B[49m\n",
      "Cell \u001B[0;32mIn[17], line 7\u001B[0m, in \u001B[0;36mBiometricAuthentication.login\u001B[0;34m(self)\u001B[0m\n\u001B[1;32m      5\u001B[0m \u001B[38;5;28;01mdef\u001B[39;00m \u001B[38;5;21mlogin\u001B[39m(\u001B[38;5;28mself\u001B[39m) \u001B[38;5;241m-\u001B[39m\u001B[38;5;241m>\u001B[39m \u001B[38;5;28mstr\u001B[39m:\n\u001B[1;32m      6\u001B[0m     \u001B[38;5;28;01mif\u001B[39;00m \u001B[38;5;28mlen\u001B[39m(\u001B[38;5;28mself\u001B[39m\u001B[38;5;241m.\u001B[39mdata_bio) \u001B[38;5;241m<\u001B[39m \u001B[38;5;241m10\u001B[39m:\n\u001B[0;32m----> 7\u001B[0m         \u001B[38;5;28;01mraise\u001B[39;00m \u001B[38;5;167;01mValueError\u001B[39;00m(\u001B[38;5;124m\"\u001B[39m\u001B[38;5;124mExcepción en los datos biometricos\u001B[39m\u001B[38;5;124m\"\u001B[39m)\n\u001B[1;32m      8\u001B[0m     \u001B[38;5;28;01mreturn\u001B[39;00m \u001B[38;5;124mf\u001B[39m\u001B[38;5;124m\"\u001B[39m\u001B[38;5;124mlogin success to biometric data user\u001B[39m\u001B[38;5;124m\"\u001B[39m\n",
      "\u001B[0;31mValueError\u001B[0m: Excepción en los datos biometricos"
     ]
    }
   ],
   "execution_count": 20
  },
  {
   "metadata": {},
   "cell_type": "markdown",
   "source": ""
  }
 ],
 "metadata": {
  "language_info": {
   "name": "python"
  },
  "kernelspec": {
   "name": "python3",
   "language": "python",
   "display_name": "Python 3 (ipykernel)"
  }
 },
 "nbformat": 4,
 "nbformat_minor": 2
}

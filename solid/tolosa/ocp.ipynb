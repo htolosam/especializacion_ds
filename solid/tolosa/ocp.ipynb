{
 "cells": [
  {
   "cell_type": "markdown",
   "metadata": {},
   "source": [
    "Ejericio OCP - Open Close Principle\n",
    "\n",
    "Se usan diferentes tipos de notificaciones para un cliente"
   ]
  },
  {
   "cell_type": "markdown",
   "metadata": {},
   "source": [
    "OCP Ejercicio incorrecto\n",
    "\n",
    "Se daña el principio cuando se necesite ingresar o eliminar un canal debido a que debemos modificar la clase Notification\n"
   ]
  },
  {
   "cell_type": "code",
   "execution_count": 20,
   "metadata": {},
   "outputs": [],
   "source": [
    "class Notification:\n",
    "    def __init__(self, message: str, channel: str, contact: str) -> None:\n",
    "        self.message = message\n",
    "        self.channel = channel\n",
    "        self.contact = contact\n",
    "\n",
    "    def sendNotification(self) -> str:\n",
    "        if self.channel == \"WHATSAPP\":\n",
    "            return f\"{self.channel} {self.contact}: {self.message}\"\n",
    "        elif self.channel == \"EMAIL\":\n",
    "            datos_email = self.message.split(\":\")\n",
    "            return f\"{self.channel}: \\n    subject: {datos_email[0]} \\n    body:{datos_email[1]}\"\n",
    "        else:\n",
    "            return f\"{self.channel}:: message: {self.message}\""
   ]
  },
  {
   "cell_type": "code",
   "execution_count": 21,
   "metadata": {},
   "outputs": [
    {
     "name": "stdout",
     "output_type": "stream",
     "text": [
      "EMAIL: \n",
      "    subject: Realiza el proceso \n",
      "    body:Buenas tardes este es el body\n"
     ]
    }
   ],
   "source": [
    "#test\n",
    "notification: Notification = Notification(\"Realiza el proceso:Buenas tardes este es el body\", \"EMAIL\", \"test@email.com\")\n",
    "print(notification.sendNotification())"
   ]
  },
  {
   "cell_type": "markdown",
   "metadata": {},
   "source": [
    "Ejercicio bueno OCP\n",
    " \n",
    "El principio no se viola y podemos ingresar o quitar nuevas notificaciones"
   ]
  },
  {
   "cell_type": "code",
   "execution_count": 9,
   "metadata": {},
   "outputs": [],
   "source": [
    "from abc import ABC, abstractmethod\n",
    "\n",
    "class Notification(ABC):\n",
    "    @abstractmethod\n",
    "    def sendNotification(self) -> str:\n",
    "        pass\n",
    "\n",
    "class NotificationWhatsApp(Notification):\n",
    "    def __init__(self, message: str, contact: str) -> None:\n",
    "        self.message = message\n",
    "        self.contact = contact\n",
    "\n",
    "    def sendNotification(self) -> str:\n",
    "        return f\"WHATSAPP: {self.contact}: {self.message}\"\n",
    "\n",
    "class NotificationSMS(Notification):\n",
    "    def __init__(self, message: str, contact: str) -> None:\n",
    "        self.message = message\n",
    "        self.contact = contact\n",
    "\n",
    "    def sendNotification(self) -> str:\n",
    "        return f\"{self.contact}: {self.message}\"\n",
    "\n",
    "class NotificationEmail(Notification):\n",
    "    def __init__(self, message: str, contact: str) -> None:\n",
    "        self.message = message\n",
    "        self.contact = contact\n",
    "\n",
    "    def sendNotification(self) -> str:\n",
    "        datos_email: list[str] = self.message.split(\":\")\n",
    "        return f\"EMAIL: \\n     subject: {datos_email[0]} \\n     body:{datos_email[1]}\"\n"
   ]
  },
  {
   "cell_type": "code",
   "execution_count": 10,
   "metadata": {},
   "outputs": [
    {
     "name": "stdout",
     "output_type": "stream",
     "text": [
      "WHATSAPP: 3213212211: Hola, realiza tu proceso\n",
      "EMAIL: \n",
      "     subject: Realiza el proceso \n",
      "     body:Buenas tardes este es el body\n"
     ]
    }
   ],
   "source": [
    "notifyWhatsApp: NotificationWhatsApp = NotificationWhatsApp(\"Hola, realiza tu proceso\", \"3213212211\")\n",
    "notifyEmail: NotificationEmail = NotificationEmail(\"Realiza el proceso:Buenas tardes este es el body\", \"test@email.com\")\n",
    "list_notifications: list[Notification] = [notifyWhatsApp, notifyEmail]\n",
    "for notify in list_notifications:\n",
    "    print(notify.sendNotification())"
   ]
  }
 ],
 "metadata": {
  "kernelspec": {
   "display_name": "Python 3 (ipykernel)",
   "language": "python",
   "name": "python3"
  }
 },
 "nbformat": 4,
 "nbformat_minor": 2
}

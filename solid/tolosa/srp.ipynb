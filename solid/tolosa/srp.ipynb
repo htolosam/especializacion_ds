{
 "cells": [
  {
   "cell_type": "markdown",
   "metadata": {},
   "source": [
    "Single Responsability Principle "
   ]
  },
  {
   "cell_type": "markdown",
   "metadata": {},
   "source": [
    "Código sin SRP"
   ]
  },
  {
   "cell_type": "code",
   "execution_count": 3,
   "metadata": {},
   "outputs": [],
   "source": [
    "class Security:\n",
    "    def __init__(self, username: str, password:str, token: str) -> None:\n",
    "        self.username = username\n",
    "        self.password = password\n",
    "        self.token = token\n",
    "\n",
    "    def login(self) -> str:\n",
    "        return f\"login success to username {self.username}\"\n",
    "\n",
    "    def validarToken(self) -> str:\n",
    "        if self.token != \"\":\n",
    "            return \"Token success\"\n",
    "        return \"Token error\"\n",
    "\n"
   ]
  },
  {
   "cell_type": "code",
   "execution_count": 4,
   "metadata": {},
   "outputs": [
    {
     "name": "stdout",
     "output_type": "stream",
     "text": [
      "login success to username $ho\n",
      "Token success\n"
     ]
    }
   ],
   "source": [
    "## test\n",
    "security: Security = Security(\"ho\", \"tolosa\", \"123\")\n",
    "print(security.login())\n",
    "print(security.validarToken())"
   ]
  },
  {
   "cell_type": "markdown",
   "metadata": {},
   "source": [
    "Código con SRP"
   ]
  },
  {
   "cell_type": "code",
   "execution_count": 9,
   "metadata": {},
   "outputs": [],
   "source": [
    "class Autorization:\n",
    "    def login(self, username: str, password: str) -> str:\n",
    "        return f\"login success to {username}\"\n",
    "\n",
    "class Validation:\n",
    "    def validarToken(self, token: str) -> str:\n",
    "        if token != \"\":\n",
    "            return \"Token success\"\n",
    "        return \"Token error\"\n",
    "\n"
   ]
  },
  {
   "cell_type": "code",
   "execution_count": 11,
   "metadata": {},
   "outputs": [
    {
     "name": "stdout",
     "output_type": "stream",
     "text": [
      "login success to ho\n",
      "Token error\n"
     ]
    }
   ],
   "source": [
    "#test\n",
    "autorization: Autorization = Autorization()\n",
    "validation: Validation = Validation()\n",
    "print(autorization.login(\"ho\", \"tolosa\"))\n",
    "print(validation.validarToken(\"\"))"
   ]
  }
 ],
 "metadata": {
  "kernelspec": {
   "display_name": "Python 3 (ipykernel)",
   "language": "python",
   "name": "python3"
  },
  "language_info": {
   "codemirror_mode": {
    "name": "ipython",
    "version": 3
   },
   "file_extension": ".py",
   "mimetype": "text/x-python",
   "name": "python",
   "nbconvert_exporter": "python",
   "pygments_lexer": "ipython3",
   "version": "3.12.1"
  }
 },
 "nbformat": 4,
 "nbformat_minor": 2
}

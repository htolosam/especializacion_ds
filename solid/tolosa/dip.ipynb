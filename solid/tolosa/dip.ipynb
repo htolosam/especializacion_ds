{
 "cells": [
  {
   "metadata": {},
   "cell_type": "markdown",
   "source": "DIP - Dependency Inversion Principle\n",
   "id": "a8a93078739a1892"
  },
  {
   "metadata": {},
   "cell_type": "markdown",
   "source": [
    "DIP Incorrecto\n",
    "La clase Session esta acoplada con la clase concreta de security si se enecestia colocar una nueva forma de autenticación no se puede implementar por esta dependencia"
   ],
   "id": "72edad8021f75918"
  },
  {
   "cell_type": "code",
   "id": "initial_id",
   "metadata": {
    "collapsed": true,
    "ExecuteTime": {
     "end_time": "2024-09-29T18:51:38.675342Z",
     "start_time": "2024-09-29T18:51:38.669269Z"
    }
   },
   "source": [
    "class Security:\n",
    "\n",
    "    def login(self, username: str, password:str) -> str:\n",
    "        return f\"login success to username {username} with password {password}\"\n",
    "\n",
    "\n",
    "class Session:\n",
    "    def __init__(self, security: Security, username: str, password: str) -> None:\n",
    "        self.username = username\n",
    "        self.password = password\n",
    "        self.security = security\n",
    "    \n",
    "    def authenticate(self) -> str:\n",
    "        return self.security.login(self.username, self.password)\n",
    "\n",
    "\n"
   ],
   "outputs": [],
   "execution_count": 24
  },
  {
   "metadata": {
    "ExecuteTime": {
     "end_time": "2024-09-29T18:51:40.134314Z",
     "start_time": "2024-09-29T18:51:40.131776Z"
    }
   },
   "cell_type": "code",
   "source": [
    "security: Security = Security()\n",
    "session_auth: Session = Session(security, \"user1\", \"1qaz2wsx\")\n",
    "print(session_auth.authenticate())"
   ],
   "id": "93baf9ce98c0868",
   "outputs": [
    {
     "name": "stdout",
     "output_type": "stream",
     "text": [
      "login success to username user1 with password 1qaz2wsx\n"
     ]
    }
   ],
   "execution_count": 25
  },
  {
   "metadata": {},
   "cell_type": "markdown",
   "source": [
    "DIP - Correcto\n",
    "Se crea una interface y esto hace que los objetos que la implementan se puedan cambiar o usar en la clase Session"
   ],
   "id": "1b8f4bd1aa22b2ab"
  },
  {
   "metadata": {
    "ExecuteTime": {
     "end_time": "2024-09-29T19:00:54.350468Z",
     "start_time": "2024-09-29T19:00:54.344221Z"
    }
   },
   "cell_type": "code",
   "source": [
    "from abc import ABC, abstractmethod\n",
    "\n",
    "class Security(ABC):\n",
    "    \n",
    "    @abstractmethod\n",
    "    def login(self) -> str:\n",
    "        pass\n",
    "    \n",
    "class Authentication(Security):\n",
    "    def __init__(self, username: str, password:str) -> None:\n",
    "        self.username = username\n",
    "        self.password = password\n",
    "\n",
    "    def login(self) -> str:\n",
    "        return f\"login success to username {self.username} with password {self.password}\"\n",
    "\n",
    "\n",
    "class BiometricAuthentication(Security):\n",
    "    def __init__(self, data_bio: str) -> None:\n",
    "        self.data_bio = data_bio\n",
    "    \n",
    "    def login(self) -> str:\n",
    "        return f\"login success to biometric data user with data {self.data_bio}\"\n",
    "    \n",
    "\n",
    "\n",
    "class Session:\n",
    "    def __init__(self, sec: Security) -> None:\n",
    "        self.sec = sec\n",
    "    \n",
    "    def authenticate(self) -> str:\n",
    "        return self.sec.login()"
   ],
   "id": "970092c7d481e7c4",
   "outputs": [],
   "execution_count": 28
  },
  {
   "metadata": {
    "ExecuteTime": {
     "end_time": "2024-09-29T19:01:52.484781Z",
     "start_time": "2024-09-29T19:01:52.481613Z"
    }
   },
   "cell_type": "code",
   "source": [
    "authentication: Authentication = Authentication(\"user1\", \"1qaz2wsx\")\n",
    "biometricAuthentication: BiometricAuthentication = BiometricAuthentication(\"1qaz2wsx\")\n",
    "list_security: list[Security] = [authentication, biometricAuthentication]\n",
    "for sec in list_security:\n",
    "    session_auth: Session = Session(sec)\n",
    "    print(session_auth.authenticate())\n"
   ],
   "id": "b83fc0d2d8715419",
   "outputs": [
    {
     "name": "stdout",
     "output_type": "stream",
     "text": [
      "login success to username user1 with password 1qaz2wsx\n",
      "login success to biometric data user with data 1qaz2wsx\n"
     ]
    }
   ],
   "execution_count": 30
  }
 ],
 "metadata": {
  "kernelspec": {
   "display_name": "Python 3",
   "language": "python",
   "name": "python3"
  },
  "language_info": {
   "codemirror_mode": {
    "name": "ipython",
    "version": 2
   },
   "file_extension": ".py",
   "mimetype": "text/x-python",
   "name": "python",
   "nbconvert_exporter": "python",
   "pygments_lexer": "ipython2",
   "version": "2.7.6"
  }
 },
 "nbformat": 4,
 "nbformat_minor": 5
}
